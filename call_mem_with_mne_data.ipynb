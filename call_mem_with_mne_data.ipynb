{
 "cells": [
  {
   "cell_type": "markdown",
   "metadata": {},
   "source": [
    "License: BSD-3-Clause\n",
    "\n",
    "Copyright the MNE-Python contributors.\n",
    "\n",
    "Edited by: Edouard Delaire, Ilian Azz"
   ]
  },
  {
   "cell_type": "markdown",
   "metadata": {},
   "source": [
    "# Install PIP dependencies"
   ]
  },
  {
   "cell_type": "code",
   "execution_count": 19,
   "metadata": {},
   "outputs": [],
   "source": [
    "# Able to export maps as movies (optional)\n",
    "%pip install imageio\n",
    "# to convert the notebook to html, pdf, etc. (optional)\n",
    "%pip install nbconvert\n",
    "%pip install scipy\n",
    "%pip install mne==1.7.0\n",
    "%pip install matplotlib\n",
    "%pip install numpy\n",
    "%pip install pandas\n",
    "%pip install darkdetect\n",
    "# HERE \n",
    "# !!!!! The matlabengine version should match the version of MATLAB installed on your system !!!!!\n",
    "# Check : https://www.mathworks.com/help/matlab/matlab_external/install-the-matlab-engine-for-python.html\n",
    "%pip install matlabengine==24.1.2"
   ]
  },
  {
   "cell_type": "markdown",
   "metadata": {},
   "source": [
    "# Load MNE model"
   ]
  },
  {
   "cell_type": "code",
   "execution_count": 1,
   "metadata": {},
   "outputs": [],
   "source": [
    "import mne\n",
    "from mne.datasets import sample\n",
    "\n",
    "data_path = sample.data_path()\n",
    "meg_path = data_path / \"MEG\" / \"sample\"\n",
    "fwd_fname = meg_path / \"sample_audvis-meg-eeg-oct-6-fwd.fif\"\n",
    "ave_fname = meg_path / \"sample_audvis-ave.fif\"\n",
    "cov_fname = meg_path / \"sample_audvis-shrunk-cov.fif\"\n",
    "subjects_dir = data_path / \"subjects\"\n",
    "condition = \"Left Auditory\"\n",
    "\n",
    "# Read noise covariance matrix\n",
    "noise_cov = mne.read_cov(cov_fname)\n",
    "# Handling average file\n",
    "evoked = mne.read_evokeds(ave_fname, condition=condition, baseline=(None, 0))\n",
    "evoked.crop(tmin=0.04, tmax=0.18)\n",
    "\n",
    "evoked = evoked.pick(picks=\"meg\", exclude=\"bads\")\n",
    "# Handling forward solution\n",
    "forward = mne.read_forward_solution(fwd_fname)\n",
    "\n",
    "# Convertir à un modèle à orientation libre\n",
    "# force_fixed: Orientation fixe ou libre\n",
    "# surf_ori: orientaton vers la surface\n",
    "forward = mne.convert_forward_solution(forward, force_fixed=True, surf_ori=True)"
   ]
  },
  {
   "cell_type": "markdown",
   "metadata": {},
   "source": [
    "# Start & Configure matlab engine\n",
    "## Start engine and add path"
   ]
  },
  {
   "cell_type": "code",
   "execution_count": 2,
   "metadata": {},
   "outputs": [],
   "source": [
    "# Start MATLAB engine\n",
    "import matlab.engine\n",
    "eng = matlab.engine.start_matlab(\"-desktop\")\n",
    "\n",
    "# HERE\n",
    "# Add file to MATLAB path\n",
    "eng.eval(\"addpath(genpath('C:/Users/Ilian/Documents/MATLAB/best-brainstorm'))\", nargout=0)"
   ]
  },
  {
   "cell_type": "markdown",
   "metadata": {},
   "source": [
    "## Create matlab structures\n",
    "### Create HeadModel structure"
   ]
  },
  {
   "cell_type": "code",
   "execution_count": 3,
   "metadata": {},
   "outputs": [],
   "source": [
    "def GetHeadModel(G, VertexConnectivityMatrix):\n",
    "    \"\"\"Generate the MEM \"HeadModel\" struct\n",
    "\n",
    "    Parameters\n",
    "    ----------\n",
    "    M : np_array, shape (n_channels, n_times)\n",
    "        The whitened data.\n",
    "    G : np_array, shape (n_channels, n_dipoles)\n",
    "        The gain matrix a.k.a. the forward operator. The number of locations\n",
    "        is n_dipoles / n_orient. n_orient will be 1 for a fixed orientation\n",
    "        constraint or 3 when using a free orientation model.\n",
    "    VertexConnectivityMatrix : sparse_matrix, shape (n_dipoles, n_dipoles)\n",
    "        The adjacency matrix of the source space.\n",
    "        \n",
    "    Returns\n",
    "    -------\n",
    "    HeadModel : dict\n",
    "    \"\"\"\n",
    "    HeadModel = {}\n",
    "    HeadModel[\"Gain\"] = {\n",
    "        \"matrix\":  matlab.double(G.tolist()),\n",
    "        \"modality\": \"MEG\",\n",
    "    }\n",
    "    HeadModel[\"vertex_connectivity\"] =  matlab.double(VertexConnectivityMatrix.toarray().tolist())\n",
    "\n",
    "    return HeadModel"
   ]
  },
  {
   "cell_type": "markdown",
   "metadata": {},
   "source": [
    "### Create MEMOptions structure"
   ]
  },
  {
   "cell_type": "code",
   "execution_count": 4,
   "metadata": {},
   "outputs": [],
   "source": [
    "def GetMEMOptions(M, DataTimes, NoiseCov, ChannelTypes, DataTypes):\n",
    "    \"\"\"Generate the MEM \"HeadModel\" struct\n",
    "\n",
    "    Parameters\n",
    "    ----------\n",
    "    M : np_array, shape (n_channels, n_times)\n",
    "        The whitened data.\n",
    "    G : np_array, shape (n_channels, n_dipoles)\n",
    "        The gain matrix a.k.a. the forward operator. The number of locations\n",
    "        is n_dipoles / n_orient. n_orient will be 1 for a fixed orientation\n",
    "        constraint or 3 when using a free orientation model.\n",
    "    DataTimes : np_array, shape (n_times,)\n",
    "        The time points of the data.\n",
    "    NoiseCov : np_array, shape (n_channels, n_channels)\n",
    "        The noise covariance matrix.\n",
    "        \n",
    "    Returns\n",
    "    -------\n",
    "    MEMOptions : dict\n",
    "    \"\"\"\n",
    "    MEMOptions = eng.be_cmem_pipelineoptions()\n",
    "\n",
    "    MEMOptions[\"mandatory\"] = {} \n",
    "    MEMOptions[\"mandatory\"][\"DataTime\"] = matlab.double(DataTimes.tolist())\n",
    "    MEMOptions[\"mandatory\"][\"Data\"] = matlab.double(M.tolist())\n",
    "    \n",
    "    MEMOptions[\"mandatory\"][\"ChannelTypes\"] = ChannelTypes\n",
    "    MEMOptions[\"mandatory\"][\"DataTypes\"] = DataTypes\n",
    "    MEMOptions[\"mandatory\"][\"pipeline\"] =  \"cMEM\"\n",
    "\n",
    "\n",
    "    MEMOptions[\"optional\"][\"DataFile\"] = \"\"\n",
    "    MEMOptions[\"optional\"][\"HeadModelFile\"] = \"\"\n",
    "    # NoiseCov can be empty if Baseline is defined\n",
    "    MEMOptions[\"optional\"][\"Baseline\"] = matlab.double(M[:,:10].tolist())\n",
    "    MEMOptions[\"optional\"][\"BaselineTime\"] = matlab.double([DataTimes[0], DataTimes[10]])\n",
    "    MEMOptions[\"optional\"][\"TimeSegment\"] = matlab.double([DataTimes[0], DataTimes[10]])\n",
    "    MEMOptions[\"optional\"][\"Channel\"] = []\n",
    "    MEMOptions[\"optional\"][\"ChannelFlag\"] = []\n",
    "\n",
    "    # MEMOptions[\"solver\"][\"NoiseCov\"] = matlab.double(NoiseCov.tolist())\n",
    "    MEMOptions[\"solver\"][\"NoiseCov\"] = []\n",
    "    MEMOptions[\"solver\"][\"NoiseCov_recompute\"] = 1\n",
    "\n",
    "\n",
    "    # Default parameters\n",
    "    MEMOptions[\"optional\"][\"active_mean_method\"] = 2\n",
    "    MEMOptions[\"optional\"][\"alpha_method\"] = 3\n",
    "    MEMOptions[\"optional\"][\"alpha_threshold\"] = 0\n",
    "    MEMOptions[\"optional\"][\"initial_lambda\"] = 1\n",
    "    MEMOptions[\"optional\"][\"depth_weigth_MNE\"] = 0\n",
    "    MEMOptions[\"optional\"][\"depth_weigth_MEM\"] = 0\n",
    "\n",
    "    return MEMOptions"
   ]
  },
  {
   "cell_type": "markdown",
   "metadata": {},
   "source": [
    "# Define solver methods"
   ]
  },
  {
   "cell_type": "code",
   "execution_count": 5,
   "metadata": {},
   "outputs": [],
   "source": [
    "import numpy as np\n",
    "\n",
    "def apply_solver(solver, evoked, forward, noise_cov, loose=0.0, depth=0.8):\n",
    "    \"\"\"Call a custom solver on evoked data.\n",
    "\n",
    "    This function does all the necessary computation:\n",
    "\n",
    "    - to select the channels in the forward given the available ones in\n",
    "      the data\n",
    "    - to take into account the noise covariance and do the spatial whitening\n",
    "    - to apply loose orientation constraint as MNE solvers\n",
    "    - to apply a weigthing of the columns of the forward operator as in the\n",
    "      weighted Minimum Norm formulation in order to limit the problem\n",
    "      of depth bias.\n",
    "\n",
    "    Parameters\n",
    "    ----------\n",
    "    solver : callable\n",
    "        The solver takes 3 parameters: data M, gain matrix G, number of\n",
    "        dipoles orientations per location (1 or 3). A solver shall return\n",
    "        2 variables: X which contains the time series of the active dipoles\n",
    "        and an active set which is a boolean mask to specify what dipoles are\n",
    "        present in X.\n",
    "    evoked : instance of mne.Evoked\n",
    "        The evoked data\n",
    "    forward : instance of Forward\n",
    "        The forward solution.\n",
    "    noise_cov : instance of Covariance\n",
    "        The noise covariance.\n",
    "    loose : float in [0, 1] | 'auto'\n",
    "        Value that weights the source variances of the dipole components\n",
    "        that are parallel (tangential) to the cortical surface. If loose\n",
    "        is 0 then the solution is computed with fixed orientation.\n",
    "        If loose is 1, it corresponds to free orientations.\n",
    "        The default value ('auto') is set to 0.2 for surface-oriented source\n",
    "        space and set to 1.0 for volumic or discrete source space.\n",
    "    depth : None | float in [0, 1]\n",
    "        Depth weighting coefficients. If None, no depth weighting is performed.\n",
    "\n",
    "    Returns\n",
    "    -------\n",
    "    stc : instance of SourceEstimate\n",
    "        The source estimates.\n",
    "    \"\"\"\n",
    "    # Import the necessary private functions\n",
    "    from mne.inverse_sparse.mxne_inverse import (\n",
    "        _make_sparse_stc,\n",
    "        _prepare_gain,\n",
    "        _reapply_source_weighting,\n",
    "        is_fixed_orient,\n",
    "    )\n",
    "\n",
    "    all_ch_names = evoked.ch_names\n",
    "\n",
    "    # Handle depth weighting and whitening (here is no weights)\n",
    "    forward, gain, gain_info, whitener, source_weighting, mask = _prepare_gain(\n",
    "        forward,\n",
    "        evoked.info,\n",
    "        noise_cov,\n",
    "        pca=False,\n",
    "        depth=depth,\n",
    "        loose=loose,\n",
    "        weights=None,\n",
    "        weights_min=None,\n",
    "        rank=None,\n",
    "    )\n",
    "\n",
    "    # Select channels of interest \n",
    "    channel_names = forward['sol']['row_names']\n",
    "    indices_meg = [i for i, name in enumerate(channel_names) if name.startswith('MEG')]\n",
    "    # indices_meg.pop()\n",
    "    gain = gain[indices_meg, :]\n",
    "\n",
    "    # Select channels of interest\n",
    "    sel = [all_ch_names.index(name) for name in gain_info[\"ch_names\"]]\n",
    "    M = evoked.data[sel]\n",
    "\n",
    "    data_type = [\"MEG\"]\n",
    "    channel_types = [name.split(\" \")[0] for name in channel_names]\n",
    "    \n",
    "    ####### SOLVER\n",
    "\n",
    "    vertex_connectivity_matrix = mne.spatial_src_adjacency(forward['src'])\n",
    "\n",
    "    X, active_set = solver(M, gain, vertex_connectivity_matrix, evoked.times, noise_cov.data, channel_types, data_type)\n",
    "    # X = _reapply_source_weighting(X, source_weighting, active_set)\n",
    "\n",
    "    stc = _make_sparse_stc(\n",
    "        X, active_set, forward, tmin=evoked.times[0], tstep=1.0 / evoked.info[\"sfreq\"]\n",
    "    )\n",
    "\n",
    "    return stc"
   ]
  },
  {
   "cell_type": "code",
   "execution_count": 6,
   "metadata": {},
   "outputs": [],
   "source": [
    "def solver(M, G, vertex_connectivity_matrix, data_times, noise_cov, channel_types, data_types):\n",
    "    \"\"\"Run L2 penalized regression and keep 10 strongest locations.\n",
    "\n",
    "    Parameters\n",
    "    ----------\n",
    "    M : array, shape (n_channels, n_times)\n",
    "        The whitened data.\n",
    "    G : array, shape (n_channels, n_dipoles)\n",
    "        The gain matrix a.k.a. the forward operator. The number of locations\n",
    "        is n_dipoles / n_orient. n_orient will be 1 for a fixed orientation\n",
    "        constraint or 3 when using a free orientation model.\n",
    "    data_times : array, shape (n_times,)\n",
    "        The time points of the data.\n",
    "    noise_cov : array, shape (n_channels, n_channels)\n",
    "        The noise covariance matrix.\n",
    "\n",
    "    Returns\n",
    "    -------\n",
    "    X : array, (n_active_dipoles, n_times)\n",
    "        The time series of the dipoles in the active set.\n",
    "    active_set : array (n_dipoles)\n",
    "        Array of bool. Entry j is True if dipole j is in the active set.\n",
    "        We have ``X_full[active_set] == X`` where X_full is the full X matrix\n",
    "        such that ``M = G X_full``.\n",
    "    \"\"\"\n",
    "    # # Transfer M and G to MATLAB workspace\n",
    "    eng.workspace['HeadModel'] = GetHeadModel(G, vertex_connectivity_matrix)\n",
    "    eng.workspace['MEMOptions'] = GetMEMOptions(M, data_times, noise_cov, channel_types, data_types)\n",
    "\n",
    "    # Prepare and call the MATLAB function using the variables in the workspace\n",
    "    (Results, OPTIONS) = eng.eval(\"be_main_call(HeadModel, MEMOptions)\", nargout=2)\n",
    "\n",
    "    ImageGridAmp_np = np.array(Results[\"ImageGridAmp\"])\n",
    "\n",
    "    # TODO : Extract the active set, do not create a np.ones array\n",
    "    return ImageGridAmp_np, np.ones(G.shape[1], dtype=bool)"
   ]
  },
  {
   "cell_type": "markdown",
   "metadata": {},
   "source": [
    "# Call solver"
   ]
  },
  {
   "cell_type": "code",
   "execution_count": 7,
   "metadata": {},
   "outputs": [],
   "source": [
    "loose, depth = 0.0, 0.8  # corresponds to loose orientation\n",
    "# loose, depth = 0.0, 0.8  # corresponds to free orientation\n",
    "stc_cmem = apply_solver(solver, evoked, forward, noise_cov, loose, depth)"
   ]
  },
  {
   "cell_type": "markdown",
   "metadata": {},
   "source": [
    "# Show results"
   ]
  },
  {
   "cell_type": "markdown",
   "metadata": {},
   "source": [
    "## Brain Map of the solutions"
   ]
  },
  {
   "cell_type": "code",
   "execution_count": 8,
   "metadata": {},
   "outputs": [],
   "source": [
    "initial_time = -0.1\n",
    "brain_cmem = stc_cmem.plot(\n",
    "    subjects_dir=subjects_dir,\n",
    "    initial_time=initial_time,\n",
    "    # clim=dict(kind=\"value\", lims=[0, 5e-11, 1e-10]),\n",
    "    smoothing_steps=7,\n",
    "    hemi='both',\n",
    ")\n",
    "\n",
    "brain_cmem.add_text(0.1, 0.9, \"cMEM\", \"title\", font_size=14)"
   ]
  },
  {
   "cell_type": "markdown",
   "metadata": {},
   "source": [
    "## Amplitude for each source and vetex"
   ]
  },
  {
   "cell_type": "markdown",
   "metadata": {},
   "source": [
    "## Compare with MNE Default method"
   ]
  },
  {
   "cell_type": "code",
   "execution_count": 74,
   "metadata": {},
   "outputs": [],
   "source": [
    "from mne import read_source_estimate\n",
    "from mne.minimum_norm import apply_inverse, make_inverse_operator\n",
    "\n",
    "fname_stc = meg_path / \"sample_audvis-meg\"\n",
    "\n",
    "inverse_operator = make_inverse_operator(\n",
    "    evoked.info, forward, noise_cov, loose=0, depth=0\n",
    ")\n",
    "\n",
    "stc_mne = apply_inverse(\n",
    "    evoked,\n",
    "    inverse_operator,\n",
    "    pick_ori=None,\n",
    "    method=\"MNE\"\n",
    ")\n",
    "\n",
    "# Define plotting parameters\n",
    "surfer_kwargs = dict(\n",
    "    hemi=\"both\",\n",
    "    subjects_dir=subjects_dir,\n",
    "    smoothing_steps=7,\n",
    ")\n",
    "\n",
    "# Plot surface\n",
    "brain_mne = stc_mne.plot(**surfer_kwargs)\n",
    "brain_mne.add_text(0.1, 0.9, \"MNE\", \"title\", font_size=14)"
   ]
  },
  {
   "cell_type": "markdown",
   "metadata": {},
   "source": [
    "## Show maps with absolute values"
   ]
  },
  {
   "cell_type": "code",
   "execution_count": 75,
   "metadata": {},
   "outputs": [
    {
     "name": "stdout",
     "output_type": "stream",
     "text": [
      "Using control points [3.78270031e-14 7.02257232e-14 7.92968607e-13]\n"
     ]
    },
    {
     "name": "stdout",
     "output_type": "stream",
     "text": [
      "Using control points [1.69554860e-10 2.07091805e-10 6.66194162e-10]\n"
     ]
    },
    {
     "name": "stdout",
     "output_type": "stream",
     "text": [
      "Using control points [4.93664253e-13 5.96855178e-13 1.74351802e-12]\n"
     ]
    }
   ],
   "source": [
    "stc_cmem_abs = stc_cmem.copy()\n",
    "stc_cmem_abs.data = np.abs(stc_cmem_abs.data)\n",
    "\n",
    "brain_cmem_abs = stc_cmem_abs.plot(\n",
    "    subject=\"sample\",\n",
    "    subjects_dir=subjects_dir,\n",
    "    initial_time=initial_time,\n",
    "    smoothing_steps=7,\n",
    "    hemi='both',\n",
    "    title=\"cMEM abs\",\n",
    ")\n",
    "\n",
    "brain_cmem_abs.add_text(0.1, 0.9, \"cMEM abs\", \"title\", font_size=14)\n",
    "\n",
    "stc_mne_abs = stc_mne.copy()\n",
    "stc_mne_abs.data = np.abs(stc_mne_abs.data)\n",
    "\n",
    "# Plot the result\n",
    "brain_mne_abs = stc_mne_abs.plot(\n",
    "    subject=\"sample\",\n",
    "    subjects_dir=subjects_dir,\n",
    "    initial_time=initial_time,\n",
    "    smoothing_steps=7,\n",
    "    hemi='both',\n",
    ")\n",
    "\n",
    "brain_mne_abs.add_text(0.1, 0.9, \"MNE abs\", \"title\", font_size=14)"
   ]
  },
  {
   "cell_type": "code",
   "execution_count": 96,
   "metadata": {},
   "outputs": [
    {
     "ename": "NameError",
     "evalue": "name 'gain' is not defined",
     "output_type": "error",
     "traceback": [
      "\u001b[1;31m---------------------------------------------------------------------------\u001b[0m",
      "\u001b[1;31mNameError\u001b[0m                                 Traceback (most recent call last)",
      "Cell \u001b[1;32mIn[96], line 4\u001b[0m\n\u001b[0;32m      2\u001b[0m \u001b[38;5;28;01mfor\u001b[39;00m channel_name \u001b[38;5;129;01min\u001b[39;00m channel_names:\n\u001b[0;32m      3\u001b[0m     indices_meg \u001b[38;5;241m=\u001b[39m [i \u001b[38;5;28;01mfor\u001b[39;00m i, name \u001b[38;5;129;01min\u001b[39;00m \u001b[38;5;28menumerate\u001b[39m(channel_names) \u001b[38;5;28;01mif\u001b[39;00m name\u001b[38;5;241m.\u001b[39mstartswith(channel_name\u001b[38;5;241m.\u001b[39mupper())]\n\u001b[1;32m----> 4\u001b[0m     gains\u001b[38;5;241m.\u001b[39mappend(\u001b[43mgain\u001b[49m[indices_meg, :])\n",
      "\u001b[1;31mNameError\u001b[0m: name 'gain' is not defined"
     ]
    }
   ],
   "source": [
    "gains = []\n",
    "for channel_name in channel_names:\n",
    "    indices_meg = [i for i, name in enumerate(channel_names) if name.startswith(channel_name.upper())]\n",
    "    gains.append(gain[indices_meg, :])"
   ]
  }
 ],
 "metadata": {
  "kernelspec": {
   "display_name": ".venvx",
   "language": "python",
   "name": "python3"
  },
  "language_info": {
   "codemirror_mode": {
    "name": "ipython",
    "version": 3
   },
   "file_extension": ".py",
   "mimetype": "text/x-python",
   "name": "python",
   "nbconvert_exporter": "python",
   "pygments_lexer": "ipython3",
   "version": "3.9.0"
  }
 },
 "nbformat": 4,
 "nbformat_minor": 2
}
