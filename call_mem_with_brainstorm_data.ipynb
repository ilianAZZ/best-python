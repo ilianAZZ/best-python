{
 "cells": [
  {
   "cell_type": "markdown",
   "metadata": {},
   "source": [
    "# Intro\n",
    "\n",
    "The code below use brainstorm3 data, stored in local files.\n",
    "\n",
    "It calls the best-plugin through the MatLab Engine.\n",
    "\n",
    "274 Sensors\n",
    "361 values per sensor"
   ]
  },
  {
   "cell_type": "code",
   "execution_count": 1,
   "metadata": {},
   "outputs": [],
   "source": [
    "# Start MATLAB engine\n",
    "import matlab.engine\n",
    "eng = matlab.engine.start_matlab(\"-desktop\")"
   ]
  },
  {
   "cell_type": "code",
   "execution_count": 2,
   "metadata": {},
   "outputs": [],
   "source": [
    "# Add paths to MATLAB\n",
    "eng.eval(\"addpath(genpath('C:/Users/Ilian/Documents/MATLAB/best-brainstorm/best'))\", nargout=0)\n",
    "eng.eval(\"addpath(genpath('C:/Users/Ilian/Documents/MATLAB/best-brainstorm/minFunc'))\", nargout=0)\n",
    "eng.eval(\"addpath(genpath('C:/Users/Ilian/Documents/dev/python-brainstorm/nirstorm-master/bst_plugin'))\", nargout=0)\n",
    "eng.eval(\"addpath(genpath('C:/Users/Ilian/Documents/dev/brainstorm3'))\", nargout=0)"
   ]
  },
  {
   "cell_type": "code",
   "execution_count": 3,
   "metadata": {},
   "outputs": [],
   "source": [
    "# Load the options and head model\n",
    "eng.eval(\"MEMOptions = importdata('./MEMOptions.breakpoint.mat')\", nargout=0)\n",
    "eng.eval(\"load('./OPTIONS.mat')\", nargout=0)\n",
    "eng.eval(\"load('./HeadModel.mat')\", nargout=0)\n",
    "eng.eval(\"VertConn = importdata('./VertConn.mat').VertConn\", nargout=0)"
   ]
  },
  {
   "cell_type": "code",
   "execution_count": 4,
   "metadata": {},
   "outputs": [],
   "source": [
    "# Change the gain matrix to a struct\n",
    "eng.eval(\"\"\"\n",
    "    temp_struct = struct('matrix', HeadModel.Gain, 'modality', 'MEG');\n",
    "    HeadModel.Gain = repmat(temp_struct, 1, 1);\n",
    "\"\"\", nargout=0)\n",
    "\n",
    "# Add the vertex connectivity to the head model\n",
    "eng.eval(\"\"\"\n",
    "    HeadModel.vertex_connectivity = VertConn\n",
    "\"\"\", nargout=0)\n",
    "\n",
    "# Only use the first n time points (for testing, to speed up computation)\n",
    "eng.eval(\"\"\"\n",
    "    MEMOptions.mandatory.DataTime = MEMOptions.mandatory.DataTime(1:40);\n",
    "\"\"\", nargout=0)"
   ]
  },
  {
   "cell_type": "code",
   "execution_count": 5,
   "metadata": {},
   "outputs": [],
   "source": [
    "# Call the main MATLAB function\n",
    "result_struct = eng.eval(\"be_main_call_return_struct(HeadModel, MEMOptions)\", nargout=0)\n",
    "\n",
    "# Call the MATLAB function\n",
    "# result_struct = eng.feval(\n",
    "#     \"be_main_call_return_struct\",\n",
    "#     \"HeadModel\",\n",
    "#     \"MEMOptions\",\n",
    "#     nargout=1)\n"
   ]
  },
  {
   "cell_type": "code",
   "execution_count": 6,
   "metadata": {},
   "outputs": [
    {
     "name": "stdout",
     "output_type": "stream",
     "text": [
      "['HeadModel', 'MEMOptions', 'OPTIONS', 'Results', 'VertConn', 'ans', 'temp_struct']\n",
      "(17005, 40)\n"
     ]
    }
   ],
   "source": [
    "variables = eng.eval('who', nargout=1)\n",
    "print(variables) # ['HeadModel', 'MEMOptions', 'OPTIONS', 'Results', 'VertConn', 'ans', 'temp_struct']\n",
    "\n",
    "ImageGridAmp = eng.eval(\"Results.ImageGridAmp\", nargout=1)\n",
    "\n",
    "import numpy as np\n",
    "ImageGridAmp_np = np.array(ImageGridAmp)\n",
    "print(ImageGridAmp_np.shape)"
   ]
  },
  {
   "cell_type": "code",
   "execution_count": 7,
   "metadata": {},
   "outputs": [],
   "source": [
    "# reading vertices from the head model\n",
    "vertices = eng.eval(\"double(full(VertConn))\", nargout=1)\n",
    "\n",
    "# Transform the vertices to a numpy array\n",
    "vertices_np = np.array(vertices)"
   ]
  },
  {
   "cell_type": "code",
   "execution_count": 8,
   "metadata": {},
   "outputs": [],
   "source": [
    "# Transform the adjacency matrix to a list of connected vertices (not sure about this)\n",
    "connected_vertices = np.where(np.sum(vertices_np, axis=1) > 0)[0]"
   ]
  },
  {
   "cell_type": "code",
   "execution_count": 11,
   "metadata": {},
   "outputs": [],
   "source": [
    "# Create a estimate volume (not sure about this, is it volume ?)\n",
    "import mne\n",
    "\n",
    "data = ImageGridAmp_np\n",
    "connected_vertices_list = [connected_vertices.tolist()]\n",
    "tmin = 0\n",
    "tstep = 1\n",
    "stc = mne.VolSourceEstimate(data, vertices=connected_vertices_list, tmin=tmin, tstep=tstep)"
   ]
  },
  {
   "cell_type": "code",
   "execution_count": 12,
   "metadata": {},
   "outputs": [],
   "source": [
    "# Show 3d brain with source estimates\n",
    "source_surface_file = \"C:/Users/Ilian/Documents/MATLAB/brainstorm/TutorialIntroduction2/anat/Subject01/tess_cortex_pialcereb_low.mat\"\n",
    "\n",
    "# Load mat file\n",
    "import scipy.io\n",
    "mat = scipy.io.loadmat(source_surface_file)\n",
    "\n",
    "# vertices = mat['Vertices']  # Assurez-vous que c'est la bonne clé\n",
    "faces = mat['Faces'] - 1  # MATLAB indexe à 1, Python à 0\n",
    "\n",
    "# Créer un 'source space' pour un hémisphère, simulant un hémisphère gauche\n",
    "src_data = {\n",
    "    'vertno': np.arange(vertices_np.shape[0]),  # indices des vertices\n",
    "    'rr': vertices_np,  # positions des vertices (doivent être en mètres)\n",
    "    'nn': mat.get('VertNormals', np.zeros(vertices_np.shape)),  # Normales aux vertices\n",
    "    'nuse': vertices_np.shape[0],  # nombre de vertices utilisés\n",
    "    'inuse': np.ones(vertices_np.shape[0], int),  # tous les vertices sont utilisés\n",
    "    'ntri': faces.shape[0],  # nombre de triangles\n",
    "    'tris': faces,  # les triangles\n",
    "    'type': 'surf',  # Spécification du type d'espace source\n",
    "    'coord_frame': mne.io.constants.FIFF.FIFFV_COORD_MRI,\n",
    "    'id': 101  # ID fictif pour l'hémisphère gauche\n",
    "}\n",
    "\n",
    "src = mne.SourceSpaces([src_data], dict(dist=None))  # Simplifié, normalement plus d'infos"
   ]
  },
  {
   "cell_type": "code",
   "execution_count": null,
   "metadata": {},
   "outputs": [],
   "source": [
    "%pip install nibabel\n",
    "%pip install nilearn"
   ]
  },
  {
   "cell_type": "code",
   "execution_count": 14,
   "metadata": {},
   "outputs": [
    {
     "name": "stdout",
     "output_type": "stream",
     "text": [
      "<class 'mne.source_estimate.VolSourceEstimate'>\n"
     ]
    },
    {
     "ename": "TypeError",
     "evalue": "stc must be an instance of VolSourceEstimate, got <class 'dict'> instead.",
     "output_type": "error",
     "traceback": [
      "\u001b[1;31m---------------------------------------------------------------------------\u001b[0m",
      "\u001b[1;31mTypeError\u001b[0m                                 Traceback (most recent call last)",
      "Cell \u001b[1;32mIn[14], line 3\u001b[0m\n\u001b[0;32m      1\u001b[0m \u001b[38;5;28;01mfrom\u001b[39;00m \u001b[38;5;21;01mmne\u001b[39;00m\u001b[38;5;21;01m.\u001b[39;00m\u001b[38;5;21;01mviz\u001b[39;00m \u001b[38;5;28;01mimport\u001b[39;00m plot_volume_source_estimates\n\u001b[0;32m      2\u001b[0m \u001b[38;5;28mprint\u001b[39m(\u001b[38;5;28mtype\u001b[39m(stc))\n\u001b[1;32m----> 3\u001b[0m \u001b[43mplot_volume_source_estimates\u001b[49m\u001b[43m(\u001b[49m\u001b[43msrc_data\u001b[49m\u001b[43m,\u001b[49m\u001b[43m \u001b[49m\u001b[43mstc\u001b[49m\u001b[43m)\u001b[49m\n",
      "File \u001b[1;32m<decorator-gen-165>:12\u001b[0m, in \u001b[0;36mplot_volume_source_estimates\u001b[1;34m(stc, src, subject, subjects_dir, mode, bg_img, colorbar, colormap, clim, transparent, show, initial_time, initial_pos, verbose)\u001b[0m\n",
      "File \u001b[1;32mc:\\Users\\Ilian\\Documents\\dev\\python-brainstorm\\.venv\\lib\\site-packages\\mne\\viz\\_3d.py:2770\u001b[0m, in \u001b[0;36mplot_volume_source_estimates\u001b[1;34m(stc, src, subject, subjects_dir, mode, bg_img, colorbar, colormap, clim, transparent, show, initial_time, initial_pos, verbose)\u001b[0m\n\u001b[0;32m   2768\u001b[0m _check_option(\u001b[38;5;124m\"\u001b[39m\u001b[38;5;124mmode\u001b[39m\u001b[38;5;124m\"\u001b[39m, mode, (\u001b[38;5;124m\"\u001b[39m\u001b[38;5;124mstat_map\u001b[39m\u001b[38;5;124m\"\u001b[39m, \u001b[38;5;124m\"\u001b[39m\u001b[38;5;124mglass_brain\u001b[39m\u001b[38;5;124m\"\u001b[39m))\n\u001b[0;32m   2769\u001b[0m plot_func \u001b[38;5;241m=\u001b[39m \u001b[38;5;28mdict\u001b[39m(stat_map\u001b[38;5;241m=\u001b[39mplot_stat_map, glass_brain\u001b[38;5;241m=\u001b[39mplot_glass_brain)[mode]\n\u001b[1;32m-> 2770\u001b[0m \u001b[43m_validate_type\u001b[49m\u001b[43m(\u001b[49m\u001b[43mstc\u001b[49m\u001b[43m,\u001b[49m\u001b[43m \u001b[49m\u001b[43mVolSourceEstimate\u001b[49m\u001b[43m,\u001b[49m\u001b[43m \u001b[49m\u001b[38;5;124;43m\"\u001b[39;49m\u001b[38;5;124;43mstc\u001b[39;49m\u001b[38;5;124;43m\"\u001b[39;49m\u001b[43m)\u001b[49m\n\u001b[0;32m   2771\u001b[0m \u001b[38;5;28;01mif\u001b[39;00m \u001b[38;5;28misinstance\u001b[39m(src, SourceMorph):\n\u001b[0;32m   2772\u001b[0m     img \u001b[38;5;241m=\u001b[39m src\u001b[38;5;241m.\u001b[39mapply(stc, \u001b[38;5;124m\"\u001b[39m\u001b[38;5;124mnifti1\u001b[39m\u001b[38;5;124m\"\u001b[39m, mri_resolution\u001b[38;5;241m=\u001b[39m\u001b[38;5;28;01mFalse\u001b[39;00m, mri_space\u001b[38;5;241m=\u001b[39m\u001b[38;5;28;01mFalse\u001b[39;00m)\n",
      "File \u001b[1;32mc:\\Users\\Ilian\\Documents\\dev\\python-brainstorm\\.venv\\lib\\site-packages\\mne\\utils\\check.py:608\u001b[0m, in \u001b[0;36m_validate_type\u001b[1;34m(item, types, item_name, type_name, extra)\u001b[0m\n\u001b[0;32m    606\u001b[0m         type_name \u001b[38;5;241m=\u001b[39m \u001b[38;5;124m\"\u001b[39m\u001b[38;5;124m, \u001b[39m\u001b[38;5;124m\"\u001b[39m\u001b[38;5;241m.\u001b[39mjoin(type_name)\n\u001b[0;32m    607\u001b[0m _item_name \u001b[38;5;241m=\u001b[39m \u001b[38;5;124m\"\u001b[39m\u001b[38;5;124mItem\u001b[39m\u001b[38;5;124m\"\u001b[39m \u001b[38;5;28;01mif\u001b[39;00m item_name \u001b[38;5;129;01mis\u001b[39;00m \u001b[38;5;28;01mNone\u001b[39;00m \u001b[38;5;28;01melse\u001b[39;00m item_name\n\u001b[1;32m--> 608\u001b[0m \u001b[38;5;28;01mraise\u001b[39;00m \u001b[38;5;167;01mTypeError\u001b[39;00m(\n\u001b[0;32m    609\u001b[0m     \u001b[38;5;124mf\u001b[39m\u001b[38;5;124m\"\u001b[39m\u001b[38;5;132;01m{\u001b[39;00m_item_name\u001b[38;5;132;01m}\u001b[39;00m\u001b[38;5;124m must be an instance of \u001b[39m\u001b[38;5;132;01m{\u001b[39;00mtype_name\u001b[38;5;132;01m}\u001b[39;00m\u001b[38;5;132;01m{\u001b[39;00mextra\u001b[38;5;132;01m}\u001b[39;00m\u001b[38;5;124m, \u001b[39m\u001b[38;5;124m\"\u001b[39m\n\u001b[0;32m    610\u001b[0m     \u001b[38;5;124mf\u001b[39m\u001b[38;5;124m\"\u001b[39m\u001b[38;5;124mgot \u001b[39m\u001b[38;5;132;01m{\u001b[39;00m\u001b[38;5;28mtype\u001b[39m(item)\u001b[38;5;132;01m}\u001b[39;00m\u001b[38;5;124m instead.\u001b[39m\u001b[38;5;124m\"\u001b[39m\n\u001b[0;32m    611\u001b[0m )\n",
      "\u001b[1;31mTypeError\u001b[0m: stc must be an instance of VolSourceEstimate, got <class 'dict'> instead."
     ]
    }
   ],
   "source": [
    "from mne.viz import plot_volume_source_estimates\n",
    "print(type(stc))\n",
    "plot_volume_source_estimates(src_data, stc)"
   ]
  }
 ],
 "metadata": {
  "kernelspec": {
   "display_name": "Python 3",
   "language": "python",
   "name": "python3"
  },
  "language_info": {
   "codemirror_mode": {
    "name": "ipython",
    "version": 3
   },
   "file_extension": ".py",
   "mimetype": "text/x-python",
   "name": "python",
   "nbconvert_exporter": "python",
   "pygments_lexer": "ipython3",
   "version": "3.9.0"
  }
 },
 "nbformat": 4,
 "nbformat_minor": 2
}
